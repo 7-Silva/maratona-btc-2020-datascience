{
  "nbformat": 4,
  "nbformat_minor": 0,
  "metadata": {
    "kernelspec": {
      "display_name": "Python 3.6",
      "language": "python",
      "name": "python3"
    },
    "language_info": {
      "codemirror_mode": {
        "name": "ipython",
        "version": 3
      },
      "file_extension": ".py",
      "mimetype": "text/x-python",
      "name": "python",
      "nbconvert_exporter": "python",
      "pygments_lexer": "ipython3",
      "version": "3.6.9"
    },
    "colab": {
      "name": "notebook_desafio7.ipynb",
      "provenance": [],
      "collapsed_sections": [],
      "toc_visible": true
    }
  },
  "cells": [
    {
      "cell_type": "markdown",
      "metadata": {
        "collapsed": true,
        "id": "KtHz4UxabmNp"
      },
      "source": [
        "# MARATONA BEHIND THE CODE 2020\n",
        "\n",
        "## DESAFIO 7 - TNT"
      ]
    },
    {
      "cell_type": "markdown",
      "metadata": {
        "id": "fXEhwIR3bmNs"
      },
      "source": [
        "<hr>"
      ]
    },
    {
      "cell_type": "markdown",
      "metadata": {
        "id": "d5d-cXuIbmNw"
      },
      "source": [
        "## Installing Libs"
      ]
    },
    {
      "cell_type": "code",
      "metadata": {
        "id": "dKOQOr2ebmN0",
        "outputId": "256cfb9c-28f4-4b42-c396-0a2020102bc1",
        "colab": {
          "base_uri": "https://localhost:8080/",
          "height": 258
        }
      },
      "source": [
        "!pip install scikit-learn --upgrade"
      ],
      "execution_count": 1,
      "outputs": [
        {
          "output_type": "stream",
          "text": [
            "Collecting scikit-learn\n",
            "\u001b[?25l  Downloading https://files.pythonhosted.org/packages/5c/a1/273def87037a7fb010512bbc5901c31cfddfca8080bc63b42b26e3cc55b3/scikit_learn-0.23.2-cp36-cp36m-manylinux1_x86_64.whl (6.8MB)\n",
            "\u001b[K     |████████████████████████████████| 6.8MB 6.6MB/s \n",
            "\u001b[?25hRequirement already satisfied, skipping upgrade: numpy>=1.13.3 in /usr/local/lib/python3.6/dist-packages (from scikit-learn) (1.18.5)\n",
            "Collecting threadpoolctl>=2.0.0\n",
            "  Downloading https://files.pythonhosted.org/packages/f7/12/ec3f2e203afa394a149911729357aa48affc59c20e2c1c8297a60f33f133/threadpoolctl-2.1.0-py3-none-any.whl\n",
            "Requirement already satisfied, skipping upgrade: joblib>=0.11 in /usr/local/lib/python3.6/dist-packages (from scikit-learn) (0.17.0)\n",
            "Requirement already satisfied, skipping upgrade: scipy>=0.19.1 in /usr/local/lib/python3.6/dist-packages (from scikit-learn) (1.4.1)\n",
            "Installing collected packages: threadpoolctl, scikit-learn\n",
            "  Found existing installation: scikit-learn 0.22.2.post1\n",
            "    Uninstalling scikit-learn-0.22.2.post1:\n",
            "      Successfully uninstalled scikit-learn-0.22.2.post1\n",
            "Successfully installed scikit-learn-0.23.2 threadpoolctl-2.1.0\n"
          ],
          "name": "stdout"
        }
      ]
    },
    {
      "cell_type": "code",
      "metadata": {
        "id": "BHvo-Fk4bmOF",
        "outputId": "8180df6b-4085-49ca-f4f5-4e413fb75e69",
        "colab": {
          "base_uri": "https://localhost:8080/",
          "height": 207
        }
      },
      "source": [
        "!pip install xgboost --upgrade"
      ],
      "execution_count": 2,
      "outputs": [
        {
          "output_type": "stream",
          "text": [
            "Collecting xgboost\n",
            "\u001b[?25l  Downloading https://files.pythonhosted.org/packages/35/cc/fd3d5fc6b6616a03385a0f6492cc77a253940d1026406ecc07597095e381/xgboost-1.2.1-py3-none-manylinux2010_x86_64.whl (148.9MB)\n",
            "\u001b[K     |████████████████████████████████| 148.9MB 84kB/s \n",
            "\u001b[?25hRequirement already satisfied, skipping upgrade: scipy in /usr/local/lib/python3.6/dist-packages (from xgboost) (1.4.1)\n",
            "Requirement already satisfied, skipping upgrade: numpy in /usr/local/lib/python3.6/dist-packages (from xgboost) (1.18.5)\n",
            "Installing collected packages: xgboost\n",
            "  Found existing installation: xgboost 0.90\n",
            "    Uninstalling xgboost-0.90:\n",
            "      Successfully uninstalled xgboost-0.90\n",
            "Successfully installed xgboost-1.2.1\n"
          ],
          "name": "stdout"
        }
      ]
    },
    {
      "cell_type": "code",
      "metadata": {
        "id": "92PkJAjYbmOU",
        "outputId": "5f1d5227-4e85-49b4-a6f5-b2a68f79f48a",
        "colab": {
          "base_uri": "https://localhost:8080/",
          "height": 156
        }
      },
      "source": [
        "!pip install imblearn --upgrade"
      ],
      "execution_count": 3,
      "outputs": [
        {
          "output_type": "stream",
          "text": [
            "Requirement already up-to-date: imblearn in /usr/local/lib/python3.6/dist-packages (0.0)\n",
            "Requirement already satisfied, skipping upgrade: imbalanced-learn in /usr/local/lib/python3.6/dist-packages (from imblearn) (0.4.3)\n",
            "Requirement already satisfied, skipping upgrade: scipy>=0.13.3 in /usr/local/lib/python3.6/dist-packages (from imbalanced-learn->imblearn) (1.4.1)\n",
            "Requirement already satisfied, skipping upgrade: scikit-learn>=0.20 in /usr/local/lib/python3.6/dist-packages (from imbalanced-learn->imblearn) (0.23.2)\n",
            "Requirement already satisfied, skipping upgrade: numpy>=1.8.2 in /usr/local/lib/python3.6/dist-packages (from imbalanced-learn->imblearn) (1.18.5)\n",
            "Requirement already satisfied, skipping upgrade: threadpoolctl>=2.0.0 in /usr/local/lib/python3.6/dist-packages (from scikit-learn>=0.20->imbalanced-learn->imblearn) (2.1.0)\n",
            "Requirement already satisfied, skipping upgrade: joblib>=0.11 in /usr/local/lib/python3.6/dist-packages (from scikit-learn>=0.20->imbalanced-learn->imblearn) (0.17.0)\n"
          ],
          "name": "stdout"
        }
      ]
    },
    {
      "cell_type": "markdown",
      "metadata": {
        "id": "2qQ-dDnhbmOt"
      },
      "source": [
        "<hr>"
      ]
    },
    {
      "cell_type": "markdown",
      "metadata": {
        "id": "HAzMPtd6bmOv"
      },
      "source": [
        "## Download dos conjuntos de dados em formato .csv"
      ]
    },
    {
      "cell_type": "code",
      "metadata": {
        "id": "JVxfR6ERbmOz"
      },
      "source": [
        "import pandas as pd"
      ],
      "execution_count": 4,
      "outputs": []
    },
    {
      "cell_type": "code",
      "metadata": {
        "id": "8r9W00hrbmPJ"
      },
      "source": [
        "df_data_1 = pd.read_csv('desafio7-17k.csv')"
      ],
      "execution_count": 5,
      "outputs": []
    },
    {
      "cell_type": "code",
      "metadata": {
        "id": "g8L0fCoLbmPi",
        "outputId": "23644cd8-1a37-4535-a037-8a5b2c60216f",
        "colab": {
          "base_uri": "https://localhost:8080/",
          "height": 326
        }
      },
      "source": [
        "df_training_dataset = df_data_1\n",
        "df_training_dataset.tail()"
      ],
      "execution_count": 6,
      "outputs": [
        {
          "output_type": "execute_result",
          "data": {
            "text/html": [
              "<div>\n",
              "<style scoped>\n",
              "    .dataframe tbody tr th:only-of-type {\n",
              "        vertical-align: middle;\n",
              "    }\n",
              "\n",
              "    .dataframe tbody tr th {\n",
              "        vertical-align: top;\n",
              "    }\n",
              "\n",
              "    .dataframe thead th {\n",
              "        text-align: right;\n",
              "    }\n",
              "</style>\n",
              "<table border=\"1\" class=\"dataframe\">\n",
              "  <thead>\n",
              "    <tr style=\"text-align: right;\">\n",
              "      <th></th>\n",
              "      <th>Tempo</th>\n",
              "      <th>Estação</th>\n",
              "      <th>LAT</th>\n",
              "      <th>LONG</th>\n",
              "      <th>Movimentação</th>\n",
              "      <th>Original_473</th>\n",
              "      <th>Original_269</th>\n",
              "      <th>Zero</th>\n",
              "      <th>Maçã-Verde</th>\n",
              "      <th>Tangerina</th>\n",
              "      <th>Citrus</th>\n",
              "      <th>Açaí-Guaraná</th>\n",
              "      <th>Pêssego</th>\n",
              "      <th>TARGET</th>\n",
              "      <th>row</th>\n",
              "    </tr>\n",
              "  </thead>\n",
              "  <tbody>\n",
              "    <tr>\n",
              "      <th>42099</th>\n",
              "      <td>2018-09-13</td>\n",
              "      <td>República</td>\n",
              "      <td>-23.5436</td>\n",
              "      <td>-46.6434</td>\n",
              "      <td>110305</td>\n",
              "      <td>24</td>\n",
              "      <td>24</td>\n",
              "      <td>51</td>\n",
              "      <td>13</td>\n",
              "      <td>24</td>\n",
              "      <td>40</td>\n",
              "      <td>5</td>\n",
              "      <td>1</td>\n",
              "      <td>REABASTECER</td>\n",
              "      <td>6733</td>\n",
              "    </tr>\n",
              "    <tr>\n",
              "      <th>42826</th>\n",
              "      <td>2019-07-10</td>\n",
              "      <td>Butantã</td>\n",
              "      <td>-23.5844</td>\n",
              "      <td>-46.7252</td>\n",
              "      <td>67037</td>\n",
              "      <td>75</td>\n",
              "      <td>75</td>\n",
              "      <td>58</td>\n",
              "      <td>2</td>\n",
              "      <td>22</td>\n",
              "      <td>43</td>\n",
              "      <td>14</td>\n",
              "      <td>40</td>\n",
              "      <td>REABASTECER</td>\n",
              "      <td>9910</td>\n",
              "    </tr>\n",
              "    <tr>\n",
              "      <th>44998</th>\n",
              "      <td>2019-04-13</td>\n",
              "      <td>São Judas</td>\n",
              "      <td>-23.6255</td>\n",
              "      <td>-46.6411</td>\n",
              "      <td>14808</td>\n",
              "      <td>23</td>\n",
              "      <td>23</td>\n",
              "      <td>25</td>\n",
              "      <td>2</td>\n",
              "      <td>22</td>\n",
              "      <td>15</td>\n",
              "      <td>20</td>\n",
              "      <td>5</td>\n",
              "      <td>REABASTECER</td>\n",
              "      <td>13423</td>\n",
              "    </tr>\n",
              "    <tr>\n",
              "      <th>51583</th>\n",
              "      <td>2018-01-11</td>\n",
              "      <td>Luz</td>\n",
              "      <td>-23.5365</td>\n",
              "      <td>-46.6332</td>\n",
              "      <td>127492</td>\n",
              "      <td>79</td>\n",
              "      <td>79</td>\n",
              "      <td>60</td>\n",
              "      <td>17</td>\n",
              "      <td>37</td>\n",
              "      <td>17</td>\n",
              "      <td>43</td>\n",
              "      <td>43</td>\n",
              "      <td>NORMAL</td>\n",
              "      <td>10811</td>\n",
              "    </tr>\n",
              "    <tr>\n",
              "      <th>57924</th>\n",
              "      <td>2018-12-19</td>\n",
              "      <td>Ana Rosa</td>\n",
              "      <td>-23.5813</td>\n",
              "      <td>-46.6383</td>\n",
              "      <td>63722</td>\n",
              "      <td>20</td>\n",
              "      <td>20</td>\n",
              "      <td>13</td>\n",
              "      <td>41</td>\n",
              "      <td>41</td>\n",
              "      <td>17</td>\n",
              "      <td>33</td>\n",
              "      <td>37</td>\n",
              "      <td>NORMAL</td>\n",
              "      <td>11869</td>\n",
              "    </tr>\n",
              "  </tbody>\n",
              "</table>\n",
              "</div>"
            ],
            "text/plain": [
              "            Tempo    Estação      LAT  ...  Pêssego       TARGET    row\n",
              "42099  2018-09-13  República -23.5436  ...        1  REABASTECER   6733\n",
              "42826  2019-07-10    Butantã -23.5844  ...       40  REABASTECER   9910\n",
              "44998  2019-04-13  São Judas -23.6255  ...        5  REABASTECER  13423\n",
              "51583  2018-01-11        Luz -23.5365  ...       43       NORMAL  10811\n",
              "57924  2018-12-19   Ana Rosa -23.5813  ...       37       NORMAL  11869\n",
              "\n",
              "[5 rows x 15 columns]"
            ]
          },
          "metadata": {
            "tags": []
          },
          "execution_count": 6
        }
      ]
    },
    {
      "cell_type": "markdown",
      "metadata": {
        "id": "iHJnVbrrbmPv"
      },
      "source": [
        "Sobre o arquivo \"training_dataset.csv\", temos algumas informações gerais sobre os usuários do app do BanCoppel:\n",
        "\n",
        "**Tempo**\n",
        "\n",
        "**Estação**\n",
        "\n",
        "**LAT**\n",
        "\n",
        "**LONG**\n",
        "\n",
        "**Movimentação**\n",
        "\n",
        "**Original_473**\n",
        "\n",
        "**Original_269**\n",
        "\n",
        "**Zero**\n",
        "\n",
        "**Maçã-Verde**\n",
        "\n",
        "**Tangerina**\n",
        "\n",
        "**Citrus**\n",
        "\n",
        "**Açaí-Guaraná**\n",
        "\n",
        "**Pêssego**\n",
        "\n",
        "**TARGET**"
      ]
    },
    {
      "cell_type": "code",
      "metadata": {
        "id": "ULFJUOwAbmPw",
        "outputId": "707202bb-ff04-429c-838e-43c51515740a",
        "colab": {
          "base_uri": "https://localhost:8080/",
          "height": 391
        }
      },
      "source": [
        "df_training_dataset.info()"
      ],
      "execution_count": 7,
      "outputs": [
        {
          "output_type": "stream",
          "text": [
            "<class 'pandas.core.frame.DataFrame'>\n",
            "Int64Index: 17015 entries, 0 to 57924\n",
            "Data columns (total 15 columns):\n",
            " #   Column        Non-Null Count  Dtype  \n",
            "---  ------        --------------  -----  \n",
            " 0   Tempo         16921 non-null  object \n",
            " 1   Estação       17015 non-null  object \n",
            " 2   LAT           17015 non-null  float64\n",
            " 3   LONG          17015 non-null  float64\n",
            " 4   Movimentação  17015 non-null  int64  \n",
            " 5   Original_473  17015 non-null  int64  \n",
            " 6   Original_269  17015 non-null  int64  \n",
            " 7   Zero          17015 non-null  int64  \n",
            " 8   Maçã-Verde    17015 non-null  int64  \n",
            " 9   Tangerina     17015 non-null  int64  \n",
            " 10  Citrus        17015 non-null  int64  \n",
            " 11  Açaí-Guaraná  17015 non-null  int64  \n",
            " 12  Pêssego       17015 non-null  int64  \n",
            " 13  TARGET        17015 non-null  object \n",
            " 14  row           17015 non-null  int64  \n",
            "dtypes: float64(2), int64(10), object(3)\n",
            "memory usage: 2.1+ MB\n"
          ],
          "name": "stdout"
        }
      ]
    },
    {
      "cell_type": "code",
      "metadata": {
        "id": "t5zo7ZvbbmQK",
        "outputId": "292be2fa-ba1f-4bfa-830c-6e5677704e82",
        "colab": {
          "base_uri": "https://localhost:8080/",
          "height": 289
        }
      },
      "source": [
        "df_training_dataset.nunique()"
      ],
      "execution_count": 8,
      "outputs": [
        {
          "output_type": "execute_result",
          "data": {
            "text/plain": [
              "Tempo             716\n",
              "Estação            25\n",
              "LAT                25\n",
              "LONG               25\n",
              "Movimentação    14872\n",
              "Original_473       81\n",
              "Original_269       81\n",
              "Zero               63\n",
              "Maçã-Verde         43\n",
              "Tangerina          42\n",
              "Citrus             43\n",
              "Açaí-Guaraná       42\n",
              "Pêssego            42\n",
              "TARGET              2\n",
              "row             17015\n",
              "dtype: int64"
            ]
          },
          "metadata": {
            "tags": []
          },
          "execution_count": 8
        }
      ]
    },
    {
      "cell_type": "markdown",
      "metadata": {
        "id": "R2hJA0PIbmQT"
      },
      "source": [
        "<hr>\n",
        "\n",
        "## Detalhamento do desafio: classificação binária\n",
        "\n",
        "Este é um desafio cujo objetivo de negócio é a segmentação dos usuários de aplicativo de um banco. Para tal, podemos utilizar duas abordagens: aprendizado de máquina supervisionado (classificação) ou não-supervisionado (clustering). Neste desafio será aplicada a classificação, pois é disponível um dataset já com \"labels\", ou em outras palavras, já com exemplos de dados juntamente com a variável alvo.\n",
        "\n",
        "Na biblioteca scikit-learn temos diversos algoritmos para classificação. O participante é livre para utilizar o framework que desejar para completar esse desafio.\n",
        "\n",
        "Neste notebook será mostrado um exeplo de uso do algoritmo \"Decision Tree\" para classificar parte dos estudantes em seis diferentes perfís."
      ]
    },
    {
      "cell_type": "markdown",
      "metadata": {
        "id": "jZZ501fvbmQZ"
      },
      "source": [
        "# Atenção!\n",
        "\n",
        "A coluna-alvo neste desafio é a coluna ``TARGET``"
      ]
    },
    {
      "cell_type": "markdown",
      "metadata": {
        "id": "enIceB0cbmQb"
      },
      "source": [
        "<hr>"
      ]
    },
    {
      "cell_type": "code",
      "metadata": {
        "id": "0vG10qdYbmQc",
        "outputId": "682bf20e-d0a1-4a88-d7f9-7575721ec19b",
        "colab": {
          "base_uri": "https://localhost:8080/",
          "height": 628
        }
      },
      "source": [
        "import seaborn as sns\n",
        "\n",
        "corr= df_training_dataset.corr()\n",
        "#outra forma de fazer o mapa de correlacao\n",
        "sns.set_theme(style=\"white\")\n",
        "\n",
        "# Gerar uma máscara pro triangulo de cima\n",
        "mask = np.triu(np.ones_like(corr, dtype=bool))\n",
        "\n",
        "# preparar a figurar para o plot\n",
        "f, ax = plt.subplots(figsize=(11, 9))\n",
        "\n",
        "# Gere um mapa de cores divergente personalizado\n",
        "cmap = sns.diverging_palette(230, 20, as_cmap=True)\n",
        "\n",
        "# montar o mapa de calor com a máscara e com a proporção certa\n",
        "sns.heatmap(corr, mask=mask, cmap=cmap, vmax=.3, center=0,\n",
        "            square=True, linewidths=.5, cbar_kws={\"shrink\": .5})"
      ],
      "execution_count": 23,
      "outputs": [
        {
          "output_type": "execute_result",
          "data": {
            "text/plain": [
              "<matplotlib.axes._subplots.AxesSubplot at 0x7f312028bb70>"
            ]
          },
          "metadata": {
            "tags": []
          },
          "execution_count": 23
        },
        {
          "output_type": "display_data",
          "data": {
            "image/png": "[encoded data removed]",
            "text/plain": [
              "<Figure size 792x648 with 2 Axes>"
            ]
          },
          "metadata": {
            "tags": []
          }
        }
      ]
    },
    {
      "cell_type": "code",
      "metadata": {
        "id": "Bzq2GBWlbmQu"
      },
      "source": [
        ""
      ],
      "execution_count": 8,
      "outputs": []
    },
    {
      "cell_type": "code",
      "metadata": {
        "id": "ioBBEcBDbmRA"
      },
      "source": [
        ""
      ],
      "execution_count": 8,
      "outputs": []
    },
    {
      "cell_type": "markdown",
      "metadata": {
        "id": "VKFVhAWjbmRO"
      },
      "source": [
        "## Pre-processando o dataset antes do treinamento"
      ]
    },
    {
      "cell_type": "markdown",
      "metadata": {
        "id": "QMb_0k_FbmRP"
      },
      "source": [
        "### Processando valores NaN com o SimpleImputer do sklearn\n",
        "\n",
        "Para os valores NaN, usaremos a substituição pela constante 0 como **exemplo**.\n",
        "\n",
        "Você pode escolher a estratégia que achar melhor para tratar os valores nulos :)\n",
        "\n",
        "Docs: https://scikit-learn.org/stable/modules/generated/sklearn.impute.SimpleImputer.html?highlight=simpleimputer#sklearn.impute.SimpleImputer"
      ]
    },
    {
      "cell_type": "code",
      "metadata": {
        "id": "TtokHH5BbmRR"
      },
      "source": [
        "from sklearn.impute import SimpleImputer\n",
        "import numpy as np\n",
        "\n",
        "\n",
        "impute_zeros = SimpleImputer(\n",
        "    missing_values=np.nan,\n",
        "    strategy='constant',\n",
        "    fill_value=0,\n",
        "    verbose=0,\n",
        "    copy=True\n",
        ")"
      ],
      "execution_count": 9,
      "outputs": []
    },
    {
      "cell_type": "code",
      "metadata": {
        "id": "iZW5DlIqbmRg",
        "outputId": "223a424e-991e-452a-b3c4-2ae8bf4f024a",
        "colab": {
          "base_uri": "https://localhost:8080/",
          "height": 663
        }
      },
      "source": [
        "# Exibindo os dados ausentes do conjunto de dados antes da primeira transformação (df)\n",
        "print(\"Valores nulos no df_training_dataset antes da transformação SimpleImputer: \\n\\n{}\\n\".format(df_training_dataset.isnull().sum(axis = 0)))\n",
        "\n",
        "# Aplicando a transformação ``SimpleImputer`` no conjunto de dados base\n",
        "impute_zeros.fit(X=df_training_dataset)\n",
        "\n",
        "# Reconstruindo um Pandas DataFrame com os resultados\n",
        "df_training_dataset_imputed = pd.DataFrame.from_records(\n",
        "    data=impute_zeros.transform(\n",
        "        X=df_training_dataset\n",
        "    ),\n",
        "    columns=df_training_dataset.columns\n",
        ")\n",
        "\n",
        "# Exibindo os dados ausentes do conjunto de dados após a primeira transformação (df)\n",
        "print(\"Valores nulos no df_training_dataset após a transformação SimpleImputer: \\n\\n{}\\n\".format(df_training_dataset_imputed.isnull().sum(axis = 0)))"
      ],
      "execution_count": 10,
      "outputs": [
        {
          "output_type": "stream",
          "text": [
            "Valores nulos no df_training_dataset antes da transformação SimpleImputer: \n",
            "\n",
            "Tempo           94\n",
            "Estação          0\n",
            "LAT              0\n",
            "LONG             0\n",
            "Movimentação     0\n",
            "Original_473     0\n",
            "Original_269     0\n",
            "Zero             0\n",
            "Maçã-Verde       0\n",
            "Tangerina        0\n",
            "Citrus           0\n",
            "Açaí-Guaraná     0\n",
            "Pêssego          0\n",
            "TARGET           0\n",
            "row              0\n",
            "dtype: int64\n",
            "\n",
            "Valores nulos no df_training_dataset após a transformação SimpleImputer: \n",
            "\n",
            "Tempo           0\n",
            "Estação         0\n",
            "LAT             0\n",
            "LONG            0\n",
            "Movimentação    0\n",
            "Original_473    0\n",
            "Original_269    0\n",
            "Zero            0\n",
            "Maçã-Verde      0\n",
            "Tangerina       0\n",
            "Citrus          0\n",
            "Açaí-Guaraná    0\n",
            "Pêssego         0\n",
            "TARGET          0\n",
            "row             0\n",
            "dtype: int64\n",
            "\n"
          ],
          "name": "stdout"
        }
      ]
    },
    {
      "cell_type": "markdown",
      "metadata": {
        "id": "yYOro8yRbmRn"
      },
      "source": [
        "### Eliminando colunas indesejadas\n",
        "\n",
        "Vamos **demonstrar** abaixo como usar o método **DataFrame.drop()**.\n",
        "\n",
        "Docs: https://pandas.pydata.org/pandas-docs/stable/reference/api/pandas.DataFrame.drop.html"
      ]
    },
    {
      "cell_type": "code",
      "metadata": {
        "id": "PLImfV6ObmRt",
        "outputId": "ac652393-62b9-4d0b-fe11-643075498911",
        "colab": {
          "base_uri": "https://localhost:8080/",
          "height": 326
        }
      },
      "source": [
        "df_training_dataset_imputed.tail()"
      ],
      "execution_count": 11,
      "outputs": [
        {
          "output_type": "execute_result",
          "data": {
            "text/html": [
              "<div>\n",
              "<style scoped>\n",
              "    .dataframe tbody tr th:only-of-type {\n",
              "        vertical-align: middle;\n",
              "    }\n",
              "\n",
              "    .dataframe tbody tr th {\n",
              "        vertical-align: top;\n",
              "    }\n",
              "\n",
              "    .dataframe thead th {\n",
              "        text-align: right;\n",
              "    }\n",
              "</style>\n",
              "<table border=\"1\" class=\"dataframe\">\n",
              "  <thead>\n",
              "    <tr style=\"text-align: right;\">\n",
              "      <th></th>\n",
              "      <th>Tempo</th>\n",
              "      <th>Estação</th>\n",
              "      <th>LAT</th>\n",
              "      <th>LONG</th>\n",
              "      <th>Movimentação</th>\n",
              "      <th>Original_473</th>\n",
              "      <th>Original_269</th>\n",
              "      <th>Zero</th>\n",
              "      <th>Maçã-Verde</th>\n",
              "      <th>Tangerina</th>\n",
              "      <th>Citrus</th>\n",
              "      <th>Açaí-Guaraná</th>\n",
              "      <th>Pêssego</th>\n",
              "      <th>TARGET</th>\n",
              "      <th>row</th>\n",
              "    </tr>\n",
              "  </thead>\n",
              "  <tbody>\n",
              "    <tr>\n",
              "      <th>17010</th>\n",
              "      <td>2018-09-13</td>\n",
              "      <td>República</td>\n",
              "      <td>-23.5436</td>\n",
              "      <td>-46.6434</td>\n",
              "      <td>110305</td>\n",
              "      <td>24</td>\n",
              "      <td>24</td>\n",
              "      <td>51</td>\n",
              "      <td>13</td>\n",
              "      <td>24</td>\n",
              "      <td>40</td>\n",
              "      <td>5</td>\n",
              "      <td>1</td>\n",
              "      <td>REABASTECER</td>\n",
              "      <td>6733</td>\n",
              "    </tr>\n",
              "    <tr>\n",
              "      <th>17011</th>\n",
              "      <td>2019-07-10</td>\n",
              "      <td>Butantã</td>\n",
              "      <td>-23.5844</td>\n",
              "      <td>-46.7252</td>\n",
              "      <td>67037</td>\n",
              "      <td>75</td>\n",
              "      <td>75</td>\n",
              "      <td>58</td>\n",
              "      <td>2</td>\n",
              "      <td>22</td>\n",
              "      <td>43</td>\n",
              "      <td>14</td>\n",
              "      <td>40</td>\n",
              "      <td>REABASTECER</td>\n",
              "      <td>9910</td>\n",
              "    </tr>\n",
              "    <tr>\n",
              "      <th>17012</th>\n",
              "      <td>2019-04-13</td>\n",
              "      <td>São Judas</td>\n",
              "      <td>-23.6255</td>\n",
              "      <td>-46.6411</td>\n",
              "      <td>14808</td>\n",
              "      <td>23</td>\n",
              "      <td>23</td>\n",
              "      <td>25</td>\n",
              "      <td>2</td>\n",
              "      <td>22</td>\n",
              "      <td>15</td>\n",
              "      <td>20</td>\n",
              "      <td>5</td>\n",
              "      <td>REABASTECER</td>\n",
              "      <td>13423</td>\n",
              "    </tr>\n",
              "    <tr>\n",
              "      <th>17013</th>\n",
              "      <td>2018-01-11</td>\n",
              "      <td>Luz</td>\n",
              "      <td>-23.5365</td>\n",
              "      <td>-46.6332</td>\n",
              "      <td>127492</td>\n",
              "      <td>79</td>\n",
              "      <td>79</td>\n",
              "      <td>60</td>\n",
              "      <td>17</td>\n",
              "      <td>37</td>\n",
              "      <td>17</td>\n",
              "      <td>43</td>\n",
              "      <td>43</td>\n",
              "      <td>NORMAL</td>\n",
              "      <td>10811</td>\n",
              "    </tr>\n",
              "    <tr>\n",
              "      <th>17014</th>\n",
              "      <td>2018-12-19</td>\n",
              "      <td>Ana Rosa</td>\n",
              "      <td>-23.5813</td>\n",
              "      <td>-46.6383</td>\n",
              "      <td>63722</td>\n",
              "      <td>20</td>\n",
              "      <td>20</td>\n",
              "      <td>13</td>\n",
              "      <td>41</td>\n",
              "      <td>41</td>\n",
              "      <td>17</td>\n",
              "      <td>33</td>\n",
              "      <td>37</td>\n",
              "      <td>NORMAL</td>\n",
              "      <td>11869</td>\n",
              "    </tr>\n",
              "  </tbody>\n",
              "</table>\n",
              "</div>"
            ],
            "text/plain": [
              "            Tempo    Estação      LAT  ...  Pêssego       TARGET    row\n",
              "17010  2018-09-13  República -23.5436  ...        1  REABASTECER   6733\n",
              "17011  2019-07-10    Butantã -23.5844  ...       40  REABASTECER   9910\n",
              "17012  2019-04-13  São Judas -23.6255  ...        5  REABASTECER  13423\n",
              "17013  2018-01-11        Luz -23.5365  ...       43       NORMAL  10811\n",
              "17014  2018-12-19   Ana Rosa -23.5813  ...       37       NORMAL  11869\n",
              "\n",
              "[5 rows x 15 columns]"
            ]
          },
          "metadata": {
            "tags": []
          },
          "execution_count": 11
        }
      ]
    },
    {
      "cell_type": "code",
      "metadata": {
        "id": "n_WO-RJ_bmR1"
      },
      "source": [
        "df_training_dataset_rmcolumns = df_training_dataset_imputed.drop(columns=['Tempo',\n",
        "                                                                          'Estação',\n",
        "                                                                          'LAT', \n",
        "                                                                          'LONG', \n",
        "                                                                          'Movimentação',\n",
        "                                                                          'row'], inplace=False)"
      ],
      "execution_count": 12,
      "outputs": []
    },
    {
      "cell_type": "code",
      "metadata": {
        "id": "D_2rit9bbmSE",
        "outputId": "39cd7a4f-3df1-4c75-bbd4-4575e5da567b",
        "colab": {
          "base_uri": "https://localhost:8080/",
          "height": 204
        }
      },
      "source": [
        "df_training_dataset_rmcolumns.tail()"
      ],
      "execution_count": 13,
      "outputs": [
        {
          "output_type": "execute_result",
          "data": {
            "text/html": [
              "<div>\n",
              "<style scoped>\n",
              "    .dataframe tbody tr th:only-of-type {\n",
              "        vertical-align: middle;\n",
              "    }\n",
              "\n",
              "    .dataframe tbody tr th {\n",
              "        vertical-align: top;\n",
              "    }\n",
              "\n",
              "    .dataframe thead th {\n",
              "        text-align: right;\n",
              "    }\n",
              "</style>\n",
              "<table border=\"1\" class=\"dataframe\">\n",
              "  <thead>\n",
              "    <tr style=\"text-align: right;\">\n",
              "      <th></th>\n",
              "      <th>Original_473</th>\n",
              "      <th>Original_269</th>\n",
              "      <th>Zero</th>\n",
              "      <th>Maçã-Verde</th>\n",
              "      <th>Tangerina</th>\n",
              "      <th>Citrus</th>\n",
              "      <th>Açaí-Guaraná</th>\n",
              "      <th>Pêssego</th>\n",
              "      <th>TARGET</th>\n",
              "    </tr>\n",
              "  </thead>\n",
              "  <tbody>\n",
              "    <tr>\n",
              "      <th>17010</th>\n",
              "      <td>24</td>\n",
              "      <td>24</td>\n",
              "      <td>51</td>\n",
              "      <td>13</td>\n",
              "      <td>24</td>\n",
              "      <td>40</td>\n",
              "      <td>5</td>\n",
              "      <td>1</td>\n",
              "      <td>REABASTECER</td>\n",
              "    </tr>\n",
              "    <tr>\n",
              "      <th>17011</th>\n",
              "      <td>75</td>\n",
              "      <td>75</td>\n",
              "      <td>58</td>\n",
              "      <td>2</td>\n",
              "      <td>22</td>\n",
              "      <td>43</td>\n",
              "      <td>14</td>\n",
              "      <td>40</td>\n",
              "      <td>REABASTECER</td>\n",
              "    </tr>\n",
              "    <tr>\n",
              "      <th>17012</th>\n",
              "      <td>23</td>\n",
              "      <td>23</td>\n",
              "      <td>25</td>\n",
              "      <td>2</td>\n",
              "      <td>22</td>\n",
              "      <td>15</td>\n",
              "      <td>20</td>\n",
              "      <td>5</td>\n",
              "      <td>REABASTECER</td>\n",
              "    </tr>\n",
              "    <tr>\n",
              "      <th>17013</th>\n",
              "      <td>79</td>\n",
              "      <td>79</td>\n",
              "      <td>60</td>\n",
              "      <td>17</td>\n",
              "      <td>37</td>\n",
              "      <td>17</td>\n",
              "      <td>43</td>\n",
              "      <td>43</td>\n",
              "      <td>NORMAL</td>\n",
              "    </tr>\n",
              "    <tr>\n",
              "      <th>17014</th>\n",
              "      <td>20</td>\n",
              "      <td>20</td>\n",
              "      <td>13</td>\n",
              "      <td>41</td>\n",
              "      <td>41</td>\n",
              "      <td>17</td>\n",
              "      <td>33</td>\n",
              "      <td>37</td>\n",
              "      <td>NORMAL</td>\n",
              "    </tr>\n",
              "  </tbody>\n",
              "</table>\n",
              "</div>"
            ],
            "text/plain": [
              "       Original_473  Original_269  Zero  ...  Açaí-Guaraná  Pêssego       TARGET\n",
              "17010            24            24    51  ...             5        1  REABASTECER\n",
              "17011            75            75    58  ...            14       40  REABASTECER\n",
              "17012            23            23    25  ...            20        5  REABASTECER\n",
              "17013            79            79    60  ...            43       43       NORMAL\n",
              "17014            20            20    13  ...            33       37       NORMAL\n",
              "\n",
              "[5 rows x 9 columns]"
            ]
          },
          "metadata": {
            "tags": []
          },
          "execution_count": 13
        }
      ]
    },
    {
      "cell_type": "markdown",
      "metadata": {
        "id": "QuBfZ-0dbmSU"
      },
      "source": [
        "# Atenção!\n",
        "\n",
        "As colunas removidas acima são apenas para fim de exemplo, você pode usar as colunas que quiser e inclusive criar novas colunas com dados que achar importantes!\n"
      ]
    },
    {
      "cell_type": "markdown",
      "metadata": {
        "id": "JVmsctwLbmSX"
      },
      "source": [
        "### Tratamento de de variáveis categóricas\n",
        "\n",
        "Como mencionado antes, os computadores não são bons com variáveis \"categóricas\" (ou strings).\n",
        "\n",
        "Dado uma coluna com variável categórica, o que podemos realizar é a codificação dessa coluna em múltiplas colunas contendo variáveis binárias. Esse processo é chamado de \"one-hot-encoding\" ou \"dummy encoding\". Se você não é familiarizado com esses termos, você pode pesquisar mais sobre isso na internet :)"
      ]
    },
    {
      "cell_type": "code",
      "metadata": {
        "id": "UNZ55Af1bmSZ",
        "outputId": "2692157d-550f-4ac5-fbff-9759fd5c90bf",
        "colab": {
          "base_uri": "https://localhost:8080/",
          "height": 204
        }
      },
      "source": [
        "# Tratando variáveis categóricas com o método Pandas ``get_dummies()''\n",
        "# df_training = pd.get_dummies(df_training_dataset_rmcolumns, columns=['Variável a ser aplicado método getDumies()'])\n",
        "df_training = df_training_dataset_rmcolumns\n",
        "df_training.tail()"
      ],
      "execution_count": 14,
      "outputs": [
        {
          "output_type": "execute_result",
          "data": {
            "text/html": [
              "<div>\n",
              "<style scoped>\n",
              "    .dataframe tbody tr th:only-of-type {\n",
              "        vertical-align: middle;\n",
              "    }\n",
              "\n",
              "    .dataframe tbody tr th {\n",
              "        vertical-align: top;\n",
              "    }\n",
              "\n",
              "    .dataframe thead th {\n",
              "        text-align: right;\n",
              "    }\n",
              "</style>\n",
              "<table border=\"1\" class=\"dataframe\">\n",
              "  <thead>\n",
              "    <tr style=\"text-align: right;\">\n",
              "      <th></th>\n",
              "      <th>Original_473</th>\n",
              "      <th>Original_269</th>\n",
              "      <th>Zero</th>\n",
              "      <th>Maçã-Verde</th>\n",
              "      <th>Tangerina</th>\n",
              "      <th>Citrus</th>\n",
              "      <th>Açaí-Guaraná</th>\n",
              "      <th>Pêssego</th>\n",
              "      <th>TARGET</th>\n",
              "    </tr>\n",
              "  </thead>\n",
              "  <tbody>\n",
              "    <tr>\n",
              "      <th>17010</th>\n",
              "      <td>24</td>\n",
              "      <td>24</td>\n",
              "      <td>51</td>\n",
              "      <td>13</td>\n",
              "      <td>24</td>\n",
              "      <td>40</td>\n",
              "      <td>5</td>\n",
              "      <td>1</td>\n",
              "      <td>REABASTECER</td>\n",
              "    </tr>\n",
              "    <tr>\n",
              "      <th>17011</th>\n",
              "      <td>75</td>\n",
              "      <td>75</td>\n",
              "      <td>58</td>\n",
              "      <td>2</td>\n",
              "      <td>22</td>\n",
              "      <td>43</td>\n",
              "      <td>14</td>\n",
              "      <td>40</td>\n",
              "      <td>REABASTECER</td>\n",
              "    </tr>\n",
              "    <tr>\n",
              "      <th>17012</th>\n",
              "      <td>23</td>\n",
              "      <td>23</td>\n",
              "      <td>25</td>\n",
              "      <td>2</td>\n",
              "      <td>22</td>\n",
              "      <td>15</td>\n",
              "      <td>20</td>\n",
              "      <td>5</td>\n",
              "      <td>REABASTECER</td>\n",
              "    </tr>\n",
              "    <tr>\n",
              "      <th>17013</th>\n",
              "      <td>79</td>\n",
              "      <td>79</td>\n",
              "      <td>60</td>\n",
              "      <td>17</td>\n",
              "      <td>37</td>\n",
              "      <td>17</td>\n",
              "      <td>43</td>\n",
              "      <td>43</td>\n",
              "      <td>NORMAL</td>\n",
              "    </tr>\n",
              "    <tr>\n",
              "      <th>17014</th>\n",
              "      <td>20</td>\n",
              "      <td>20</td>\n",
              "      <td>13</td>\n",
              "      <td>41</td>\n",
              "      <td>41</td>\n",
              "      <td>17</td>\n",
              "      <td>33</td>\n",
              "      <td>37</td>\n",
              "      <td>NORMAL</td>\n",
              "    </tr>\n",
              "  </tbody>\n",
              "</table>\n",
              "</div>"
            ],
            "text/plain": [
              "       Original_473  Original_269  Zero  ...  Açaí-Guaraná  Pêssego       TARGET\n",
              "17010            24            24    51  ...             5        1  REABASTECER\n",
              "17011            75            75    58  ...            14       40  REABASTECER\n",
              "17012            23            23    25  ...            20        5  REABASTECER\n",
              "17013            79            79    60  ...            43       43       NORMAL\n",
              "17014            20            20    13  ...            33       37       NORMAL\n",
              "\n",
              "[5 rows x 9 columns]"
            ]
          },
          "metadata": {
            "tags": []
          },
          "execution_count": 14
        }
      ]
    },
    {
      "cell_type": "markdown",
      "metadata": {
        "id": "FE2H4N-NbmSz"
      },
      "source": [
        "# Atenção!\n",
        "\n",
        "A coluna **TARGET** deve ser mantida como uma string. Você não precisa processar/codificar a variável-alvo."
      ]
    },
    {
      "cell_type": "markdown",
      "metadata": {
        "id": "dLFEmJXTbmS1"
      },
      "source": [
        "<hr>"
      ]
    },
    {
      "cell_type": "markdown",
      "metadata": {
        "id": "hiRR_j3fbmS2"
      },
      "source": [
        "## Treinando um classificador com base em uma árvore de decisão"
      ]
    },
    {
      "cell_type": "markdown",
      "metadata": {
        "id": "sVNOMV2QbmS4"
      },
      "source": [
        "### Selecionando FEATURES e definindo a variável TARGET"
      ]
    },
    {
      "cell_type": "code",
      "metadata": {
        "id": "1y_0CP6YbmS6",
        "outputId": "94514e7a-5482-42ac-8c62-24b947f41c43",
        "colab": {
          "base_uri": "https://localhost:8080/",
          "height": 68
        }
      },
      "source": [
        "df_training.columns"
      ],
      "execution_count": 15,
      "outputs": [
        {
          "output_type": "execute_result",
          "data": {
            "text/plain": [
              "Index(['Original_473', 'Original_269', 'Zero', 'Maçã-Verde', 'Tangerina',\n",
              "       'Citrus', 'Açaí-Guaraná', 'Pêssego', 'TARGET'],\n",
              "      dtype='object')"
            ]
          },
          "metadata": {
            "tags": []
          },
          "execution_count": 15
        }
      ]
    },
    {
      "cell_type": "code",
      "metadata": {
        "id": "BeiPVr3HbmTJ"
      },
      "source": [
        "features = df_training[\n",
        "    [\n",
        "        'Original_473', 'Original_269', 'Zero', 'Maçã-Verde', 'Tangerina',\n",
        "       'Citrus', 'Açaí-Guaraná', 'Pêssego'\n",
        "    ]\n",
        "]\n",
        "target = df_training['TARGET']  ## NÃO TROQUE O NOME DA VARIÁVEL TARGET."
      ],
      "execution_count": 16,
      "outputs": []
    },
    {
      "cell_type": "markdown",
      "metadata": {
        "id": "iu8wtEwXbmTa"
      },
      "source": [
        "### Dividindo nosso conjunto de dados em conjuntos de treinamento e teste"
      ]
    },
    {
      "cell_type": "code",
      "metadata": {
        "id": "DjAD6qzWbmTb"
      },
      "source": [
        "from sklearn.model_selection import train_test_split\n",
        "\n",
        "\n",
        "X_train, X_test, y_train, y_test = train_test_split(features, target, test_size=0.2, random_state=133)"
      ],
      "execution_count": 17,
      "outputs": []
    },
    {
      "cell_type": "markdown",
      "metadata": {
        "id": "2ArS8NYHbmTp"
      },
      "source": [
        "### Treinando uma árvore de decisão"
      ]
    },
    {
      "cell_type": "code",
      "metadata": {
        "id": "O3V0T8f3bmTr"
      },
      "source": [
        "# Método para criar um árvore de decisão\n",
        "from sklearn.tree import DecisionTreeClassifier\n",
        "\n",
        "\n",
        "dtc = DecisionTreeClassifier(max_depth=15).fit(X_train, y_train)"
      ],
      "execution_count": 19,
      "outputs": []
    },
    {
      "cell_type": "markdown",
      "metadata": {
        "id": "HAguEP1KbmT8"
      },
      "source": [
        "### Fazendo previsões na amostra de teste"
      ]
    },
    {
      "cell_type": "code",
      "metadata": {
        "id": "e7nRx7oFbmUH",
        "outputId": "980be67b-5689-428b-daec-2b7343553b7c",
        "colab": {
          "base_uri": "https://localhost:8080/",
          "height": 51
        }
      },
      "source": [
        "y_pred = dtc.predict(X_test)\n",
        "print(y_pred)"
      ],
      "execution_count": 20,
      "outputs": [
        {
          "output_type": "stream",
          "text": [
            "['REABASTECER' 'REABASTECER' 'NORMAL' ... 'REABASTECER' 'REABASTECER'\n",
            " 'REABASTECER']\n"
          ],
          "name": "stdout"
        }
      ]
    },
    {
      "cell_type": "markdown",
      "metadata": {
        "id": "PjTGRd6JbmUf"
      },
      "source": [
        "### Analisando a qualidade do modelo através da matriz de confusão"
      ]
    },
    {
      "cell_type": "code",
      "metadata": {
        "id": "PPqnRRicbmUj"
      },
      "source": [
        "import matplotlib.pyplot as plt\n",
        "import numpy as np\n",
        "import itertools\n",
        "\n",
        "\n",
        "def plot_confusion_matrix(cm, target_names, title='Confusion matrix', cmap=None, normalize=True):\n",
        "    accuracy = np.trace(cm) / float(np.sum(cm))\n",
        "    misclass = 1 - accuracy\n",
        "    if cmap is None:\n",
        "        cmap = plt.get_cmap('Blues')\n",
        "    plt.figure(figsize=(8, 6))\n",
        "    plt.imshow(cm, interpolation='nearest', cmap=cmap)\n",
        "    plt.title(title)\n",
        "    plt.colorbar()\n",
        "    if target_names is not None:\n",
        "        tick_marks = np.arange(len(target_names))\n",
        "        plt.xticks(tick_marks, target_names, rotation=45)\n",
        "        plt.yticks(tick_marks, target_names)\n",
        "    if normalize:\n",
        "        cm = cm.astype('float') / cm.sum(axis=1)[:, np.newaxis]\n",
        "    thresh = cm.max() / 1.5 if normalize else cm.max() / 2\n",
        "    for i, j in itertools.product(range(cm.shape[0]), range(cm.shape[1])):\n",
        "        if normalize:\n",
        "            plt.text(j, i, \"{:0.2f}\".format(cm[i, j]),\n",
        "                     horizontalalignment=\"center\",\n",
        "                     color=\"white\" if cm[i, j] > thresh else \"black\")\n",
        "        else:\n",
        "            plt.text(j, i, \"{:,}\".format(cm[i, j]),\n",
        "                     horizontalalignment=\"center\",\n",
        "                     color=\"white\" if cm[i, j] > thresh else \"black\")\n",
        "    plt.tight_layout()\n",
        "    plt.ylabel('True label')\n",
        "    plt.xlabel('Predicted label\\naccuracy={:0.4f}; misclass={:0.4f}'.format(accuracy, misclass))\n",
        "    plt.show()"
      ],
      "execution_count": 21,
      "outputs": []
    },
    {
      "cell_type": "code",
      "metadata": {
        "id": "gbdf0yr7bmUu",
        "outputId": "85280778-5598-45f7-9072-c6bc996555b7",
        "colab": {
          "base_uri": "https://localhost:8080/",
          "height": 467
        }
      },
      "source": [
        "from sklearn.metrics import confusion_matrix\n",
        "\n",
        "\n",
        "plot_confusion_matrix(confusion_matrix(y_test, y_pred), ['NORMAL', 'REABASTECER'])"
      ],
      "execution_count": 22,
      "outputs": [
        {
          "output_type": "display_data",
          "data": {
            "image/png": "[encoded data removed]",
            "text/plain": [
              "<Figure size 576x432 with 2 Axes>"
            ]
          },
          "metadata": {
            "tags": [],
            "needs_background": "light"
          }
        }
      ]
    },
    {
      "cell_type": "markdown",
      "metadata": {
        "id": "gjvPxPw-bmU8"
      },
      "source": [
        "<hr>"
      ]
    },
    {
      "cell_type": "markdown",
      "metadata": {
        "id": "5h4rLfq6bmU-"
      },
      "source": [
        "## Scoring dos dados necessários para entregar a solução"
      ]
    },
    {
      "cell_type": "markdown",
      "metadata": {
        "id": "iV_PCXS-bmVA"
      },
      "source": [
        "Como entrega da sua solução, esperamos os resultados classificados no seguinte dataset chamado \"to_be_scored.csv\":"
      ]
    },
    {
      "cell_type": "markdown",
      "metadata": {
        "id": "WfNfU3wgbmVI"
      },
      "source": [
        "### Download da \"folha de respostas\""
      ]
    },
    {
      "cell_type": "code",
      "metadata": {
        "scrolled": false,
        "id": "pNVIl9wwbmVK"
      },
      "source": [
        "!wget --no-check-certificate --content-disposition https://gitlab.com/JoaoPedroPP/datasets/-/raw/master/ntn/to_be_scored.csv\n",
        "df_to_be_scored = pd.read_csv(r'to_be_scored.csv')\n",
        "df_to_be_scored.tail()"
      ],
      "execution_count": null,
      "outputs": []
    },
    {
      "cell_type": "code",
      "metadata": {
        "id": "gV6j3yYtbmVb"
      },
      "source": [
        "df_to_be_scored = pd.read_csv('to_be_scored.csv')\n",
        "df_to_be_scored.tail()"
      ],
      "execution_count": null,
      "outputs": []
    },
    {
      "cell_type": "markdown",
      "metadata": {
        "id": "JnKGlcXUbmVh"
      },
      "source": [
        "# Atenção!\n",
        "\n",
        "O dataframe ``to_be_scored`` é a sua \"folha de respostas\". Note que a coluna \"TARGET\" não existe nessa amostra, que não pode ser então utilizada para treino de modelos de aprendizado supervisionado."
      ]
    },
    {
      "cell_type": "code",
      "metadata": {
        "scrolled": true,
        "id": "87IXNw5sbmVn"
      },
      "source": [
        "df_to_be_scored.info()"
      ],
      "execution_count": null,
      "outputs": []
    },
    {
      "cell_type": "markdown",
      "metadata": {
        "id": "S1-mDv7XbmVw"
      },
      "source": [
        "<hr>\n",
        "\n",
        "# Atenção!\n",
        "\n",
        "# Para poder aplicar seu modelo e classificar a folha de respostas, você precisa primeiro aplicar as mesmas transformações com colunas que você aplicou no dataset de treino.\n",
        "\n",
        "# Não remova ou adicione linhas na folha de respostas. \n",
        "\n",
        "# Não altere a ordem das linhas na folha de respostas.\n",
        "\n",
        "# Ao final, as 1000 entradas devem estar classificadas, com os valores previstos em uma coluna chamada \"target\"\n",
        "\n",
        "<hr>"
      ]
    },
    {
      "cell_type": "markdown",
      "metadata": {
        "id": "97v_L5_kbmVy"
      },
      "source": [
        "Na célula abaixo, repetimos rapidamente os mesmos passos de pré-processamento usados no exemplo dado com árvore de decisão"
      ]
    },
    {
      "cell_type": "code",
      "metadata": {
        "id": "pf2w8N04bmVz"
      },
      "source": [
        "# 1 - Removendo linhas com valores NaN\n",
        "df_to_be_scored_1 = df_to_be_scored.dropna(axis='index', how='any', subset=['Tempo', 'Estação', 'LAT', 'LONG', 'Movimentação', 'Original_473', 'Original_269', 'Zero', 'Maçã-Verde', 'Tangerina', 'Citrus', 'Açaí-Guaraná', 'Pêssego'])\n",
        "\n",
        "# 2 - Inputando zeros nos valores faltantes\n",
        "impute_zeros.fit(X=df_to_be_scored_1)\n",
        "df_to_be_scored_2 = pd.DataFrame.from_records(\n",
        "    data=impute_zeros.transform(\n",
        "        X=df_to_be_scored_1\n",
        "    ),\n",
        "    columns=df_to_be_scored_1.columns\n",
        ")\n",
        "\n",
        "# 3 - Remoção de colunas\n",
        "df_to_be_scored_3 = df_to_be_scored_2.drop(columns=['Tempo', 'Estação', 'LAT', 'LONG', 'Movimentação'], inplace=False)\n",
        "\n",
        "# 4 - Encoding com \"dummy variables\" (se necessário)\n",
        "# df_to_be_scored_4 = pd.get_dummies(df_to_be_scored_3, columns=['Váriavel com dummy'])\n",
        "df_to_be_scored_4 = df_to_be_scored_3\n",
        "\n",
        "df_to_be_scored_4.tail()"
      ],
      "execution_count": null,
      "outputs": []
    },
    {
      "cell_type": "markdown",
      "metadata": {
        "id": "OiopkuXAbmWJ"
      },
      "source": [
        "<hr>\n",
        "\n",
        "Pode ser verificado abaixo que as colunas da folha de resposta agora são idênticas às que foram usadas para treinar o modelo:"
      ]
    },
    {
      "cell_type": "code",
      "metadata": {
        "id": "GgVZ3lpkbmWL"
      },
      "source": [
        "df_training[\n",
        "    [\n",
        "        'Original_473', 'Original_269', 'Zero', 'Maçã-Verde', 'Tangerina',\n",
        "       'Citrus', 'Açaí-Guaraná', 'Pêssego'\n",
        "    ]\n",
        "].columns"
      ],
      "execution_count": null,
      "outputs": []
    },
    {
      "cell_type": "code",
      "metadata": {
        "id": "uWmpsVm5bmWc"
      },
      "source": [
        "df_to_be_scored_4.columns"
      ],
      "execution_count": null,
      "outputs": []
    },
    {
      "cell_type": "markdown",
      "metadata": {
        "id": "o9uU0HAHbmWh"
      },
      "source": [
        "# Atenção\n",
        "\n",
        "Para todas colunas que não existirem no \"df_to_be_scored\", você pode usar a técnica abaixo para adicioná-las:"
      ]
    },
    {
      "cell_type": "code",
      "metadata": {
        "scrolled": false,
        "id": "DYatCYvGbmWi"
      },
      "source": [
        "y_pred = dtc.predict(df_to_be_scored_4)\n",
        "df_to_be_scored_4['TARGET'] = y_pred\n",
        "df_to_be_scored_4.tail()"
      ],
      "execution_count": null,
      "outputs": []
    },
    {
      "cell_type": "markdown",
      "metadata": {
        "id": "mtsPlIkHbmWu"
      },
      "source": [
        "### Salvando a folha de respostas como um arquivo .csv para ser submetido"
      ]
    },
    {
      "cell_type": "code",
      "metadata": {
        "id": "CYA-dN7zbmWv"
      },
      "source": [
        "project.save_data(file_name=\"results.csv\", data=df_to_be_scored_4.to_csv(index=False))"
      ],
      "execution_count": null,
      "outputs": []
    },
    {
      "cell_type": "markdown",
      "metadata": {
        "id": "XvOsCBv0bmW2"
      },
      "source": [
        "# Atenção\n",
        "\n",
        "# A execução da célula acima irá criar um novo \"data asset\" no seu projeto no Watson Studio. Você precisará realizar o download deste arquivo juntamente com este notebook e criar um arquivo zip com os arquivos **results.csv** e **notebook.ipynb** para submissão. (os arquivos devem estar nomeados desta forma)"
      ]
    },
    {
      "cell_type": "markdown",
      "metadata": {
        "id": "wzp95dp8bmW-"
      },
      "source": [
        "<hr>\n",
        "\n",
        "## Parabéns!\n",
        "\n",
        "Se você já está satisfeito com a sua solução, vá até a página abaixo e envie os arquivos necessários para submissão.\n",
        "\n",
        "# https://tnt.maratona.dev\n"
      ]
    },
    {
      "cell_type": "code",
      "metadata": {
        "id": "7yBtRmBebmW_"
      },
      "source": [
        ""
      ],
      "execution_count": null,
      "outputs": []
    }
  ]
}